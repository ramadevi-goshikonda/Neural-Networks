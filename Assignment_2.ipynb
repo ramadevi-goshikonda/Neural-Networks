{
  "nbformat": 4,
  "nbformat_minor": 0,
  "metadata": {
    "colab": {
      "provenance": []
    },
    "kernelspec": {
      "name": "python3",
      "display_name": "Python 3"
    },
    "language_info": {
      "name": "python"
    }
  },
  "cells": [
    {
      "cell_type": "code",
      "execution_count": 66,
      "metadata": {
        "colab": {
          "base_uri": "https://localhost:8080/"
        },
        "id": "NtQvvzgsH5vd",
        "outputId": "815c88c3-5c5f-4a07-a1b8-9d50029127c5"
      },
      "outputs": [
        {
          "output_type": "stream",
          "name": "stdout",
          "text": [
            "Drive already mounted at /content/drive; to attempt to forcibly remount, call drive.mount(\"/content/drive\", force_remount=True).\n"
          ]
        }
      ],
      "source": [
        "\n",
        "#importing the the dataset from the google drive\n",
        "from google.colab import drive\n",
        "drive.mount('/content/drive')"
      ]
    },
    {
      "cell_type": "code",
      "source": [
        "#storing it in the variable\n",
        "dataset=\"/content/drive/MyDrive/assignment_2/Breas Cancer.csv\""
      ],
      "metadata": {
        "id": "t6B16CZaITk4"
      },
      "execution_count": 2,
      "outputs": []
    },
    {
      "cell_type": "code",
      "source": [
        "#importing packages\n",
        "from keras import Sequential\n",
        "from keras.datasets import mnist\n",
        "import numpy as np\n",
        "from keras.layers import Dense\n",
        "from keras.utils import to_categorical"
      ],
      "metadata": {
        "id": "KtUddykiIWCl"
      },
      "execution_count": 3,
      "outputs": []
    },
    {
      "cell_type": "code",
      "source": [
        "#splitting the dataset into training and testing\n",
        "(train_images,train_labels),(test_images, test_labels) = mnist.load_data()\n"
      ],
      "metadata": {
        "colab": {
          "base_uri": "https://localhost:8080/"
        },
        "id": "HerIUbiFIgPN",
        "outputId": "9bb221e3-e29d-49d5-b952-8e2b36cd4cd8"
      },
      "execution_count": 4,
      "outputs": [
        {
          "output_type": "stream",
          "name": "stdout",
          "text": [
            "Downloading data from https://storage.googleapis.com/tensorflow/tf-keras-datasets/mnist.npz\n",
            "11490434/11490434 [==============================] - 0s 0us/step\n"
          ]
        }
      ]
    },
    {
      "cell_type": "code",
      "source": [
        "#print the shape of the of the image\n",
        "print(train_images.shape[1:])\n",
        "#process the data\n",
        "#1. convert each image of shape 28*28 to 784 dimensional which will be fed to the network as a single feature\n",
        "dimData = np.prod(train_images.shape[1:])\n",
        "train_data = train_images.reshape(train_images.shape[0],dimData)\n",
        "test_data = test_images.reshape(test_images.shape[0],dimData)"
      ],
      "metadata": {
        "colab": {
          "base_uri": "https://localhost:8080/"
        },
        "id": "fnRYMhuWKbY9",
        "outputId": "d88caa0a-18b0-4341-ac25-f59b824edb1e"
      },
      "execution_count": 5,
      "outputs": [
        {
          "output_type": "stream",
          "name": "stdout",
          "text": [
            "(28, 28)\n",
            "784\n"
          ]
        }
      ]
    },
    {
      "cell_type": "code",
      "source": [
        "#convert data to float and scale values between 0 and 1\n",
        "train_data = train_data.astype('float')\n",
        "test_data = test_data.astype('float')\n",
        "#scale data\n",
        "train_data /=255.0\n",
        "test_data /=255.0\n",
        "#change the labels frominteger to one-hot encoding. to_categorical is doing the same thing as LabelEncoder()\n",
        "train_labels_one_hot = to_categorical(train_labels)\n",
        "test_labels_one_hot = to_categorical(test_labels)"
      ],
      "metadata": {
        "id": "2l2TD7Z6Ke4b"
      },
      "execution_count": 6,
      "outputs": []
    },
    {
      "cell_type": "code",
      "source": [
        "#creating network\n",
        "model = Sequential()\n",
        "model.add(Dense(512, activation='relu', input_shape=(dimData,)))\n",
        "model.add(Dense(512, activation='relu'))\n",
        "model.add(Dense(256, activation='relu'))\n",
        "model.add(Dense(128, activation='relu'))\n",
        "model.add(Dense(10, activation='softmax'))"
      ],
      "metadata": {
        "id": "4HTZs13oKwkl"
      },
      "execution_count": 11,
      "outputs": []
    },
    {
      "cell_type": "code",
      "source": [
        "#compiling the built model with different parameters\n",
        "model.compile(optimizer='rmsprop', loss='categorical_crossentropy', metrics=['accuracy'])\n",
        "history = model.fit(train_data, train_labels_one_hot, batch_size=256, epochs=10, verbose=1,\n",
        "                   validation_data=(test_data, test_labels_one_hot))"
      ],
      "metadata": {
        "colab": {
          "base_uri": "https://localhost:8080/"
        },
        "id": "OouBRfs1K5s7",
        "outputId": "ff4146a7-38ce-4085-fd76-889e98095aa4"
      },
      "execution_count": 8,
      "outputs": [
        {
          "output_type": "stream",
          "name": "stdout",
          "text": [
            "Epoch 1/10\n",
            "235/235 [==============================] - 6s 22ms/step - loss: 0.3585 - accuracy: 0.8874 - val_loss: 0.1585 - val_accuracy: 0.9505\n",
            "Epoch 2/10\n",
            "235/235 [==============================] - 6s 26ms/step - loss: 0.1094 - accuracy: 0.9664 - val_loss: 0.1883 - val_accuracy: 0.9432\n",
            "Epoch 3/10\n",
            "235/235 [==============================] - 5s 20ms/step - loss: 0.0691 - accuracy: 0.9787 - val_loss: 0.1129 - val_accuracy: 0.9657\n",
            "Epoch 4/10\n",
            "235/235 [==============================] - 6s 25ms/step - loss: 0.0492 - accuracy: 0.9845 - val_loss: 0.1555 - val_accuracy: 0.9573\n",
            "Epoch 5/10\n",
            "235/235 [==============================] - 5s 20ms/step - loss: 0.0365 - accuracy: 0.9887 - val_loss: 0.0772 - val_accuracy: 0.9764\n",
            "Epoch 6/10\n",
            "235/235 [==============================] - 5s 20ms/step - loss: 0.0271 - accuracy: 0.9917 - val_loss: 0.0816 - val_accuracy: 0.9770\n",
            "Epoch 7/10\n",
            "235/235 [==============================] - 6s 26ms/step - loss: 0.0196 - accuracy: 0.9937 - val_loss: 0.0669 - val_accuracy: 0.9825\n",
            "Epoch 8/10\n",
            "235/235 [==============================] - 5s 21ms/step - loss: 0.0190 - accuracy: 0.9939 - val_loss: 0.0982 - val_accuracy: 0.9788\n",
            "Epoch 9/10\n",
            "235/235 [==============================] - 6s 24ms/step - loss: 0.0141 - accuracy: 0.9956 - val_loss: 0.0797 - val_accuracy: 0.9820\n",
            "Epoch 10/10\n",
            "235/235 [==============================] - 5s 22ms/step - loss: 0.0128 - accuracy: 0.9961 - val_loss: 0.0948 - val_accuracy: 0.9802\n"
          ]
        }
      ]
    },
    {
      "cell_type": "markdown",
      "source": [
        "Change the data source to Breast Cancer dataset *"
      ],
      "metadata": {
        "id": "5PVtJ6aJMZ-o"
      }
    },
    {
      "cell_type": "code",
      "source": [
        "#importing the packages required for th csv dataset\n",
        "import pandas as pd\n",
        "import numpy as np\n",
        "from keras import Sequential\n",
        "from keras.layers import Dense\n",
        "from keras.utils import to_categorical\n",
        "from sklearn.model_selection import train_test_split"
      ],
      "metadata": {
        "id": "-LPeLg0sMfeg"
      },
      "execution_count": 12,
      "outputs": []
    },
    {
      "cell_type": "code",
      "source": [
        "#loading the new dataset and chnaging the target variable to 1 -0\n",
        "dataset=\"/content/drive/MyDrive/assignment_2/Breas Cancer.csv\"\n",
        "data = pd.read_csv(dataset)\n",
        "data['diagnosis'] = data['diagnosis'].map({'M': 1, 'B': 0})\n",
        "\n",
        "labels = data['diagnosis'].values\n",
        "\n",
        "#dropping the target column\n",
        "features = data.drop('diagnosis', axis=1).values"
      ],
      "metadata": {
        "id": "eKDtSVf-MqfT"
      },
      "execution_count": 21,
      "outputs": []
    },
    {
      "cell_type": "code",
      "source": [
        "#splitting the dataset\n",
        "train_data, test_data, train_labels, test_labels = train_test_split(features, labels, test_size=0.2, random_state=42)\n"
      ],
      "metadata": {
        "id": "6YJr11nVNTil"
      },
      "execution_count": 22,
      "outputs": []
    },
    {
      "cell_type": "code",
      "source": [
        "#building the dens models and adding the more dense layers\n",
        "model.add(Dense(512, activation='relu', input_shape=(train_data.shape[1],)))\n",
        "model.add(Dense(512, activation='relu'))\n",
        "model.add(Dense(256, activation='relu'))\n",
        "model.add(Dense(128, activation='relu'))\n",
        "model.add(Dense(1, activation='sigmoid'))"
      ],
      "metadata": {
        "id": "CGAOdE-NNXQl"
      },
      "execution_count": 26,
      "outputs": []
    },
    {
      "cell_type": "code",
      "source": [
        "#compiling the built network models\n",
        "model.compile(optimizer='rmsprop', loss='binary_crossentropy', metrics=['accuracy'])\n",
        "# Training the model\n",
        "history = model.fit(train_data, train_labels, batch_size=256, epochs=10, verbose=1,\n",
        "                    validation_data=(test_data, test_labels))"
      ],
      "metadata": {
        "colab": {
          "base_uri": "https://localhost:8080/"
        },
        "id": "oa_n852WNbhE",
        "outputId": "2727c795-b4e1-4a76-da05-0e13ec87d4a2"
      },
      "execution_count": 27,
      "outputs": [
        {
          "output_type": "stream",
          "name": "stdout",
          "text": [
            "Epoch 1/10\n",
            "2/2 [==============================] - 1s 155ms/step - loss: nan - accuracy: 0.6286 - val_loss: nan - val_accuracy: 0.6228\n",
            "Epoch 2/10\n",
            "2/2 [==============================] - 0s 39ms/step - loss: nan - accuracy: 0.6286 - val_loss: nan - val_accuracy: 0.6228\n",
            "Epoch 3/10\n",
            "2/2 [==============================] - 0s 43ms/step - loss: nan - accuracy: 0.6286 - val_loss: nan - val_accuracy: 0.6228\n",
            "Epoch 4/10\n",
            "2/2 [==============================] - 0s 43ms/step - loss: nan - accuracy: 0.6286 - val_loss: nan - val_accuracy: 0.6228\n",
            "Epoch 5/10\n",
            "2/2 [==============================] - 0s 44ms/step - loss: nan - accuracy: 0.6286 - val_loss: nan - val_accuracy: 0.6228\n",
            "Epoch 6/10\n",
            "2/2 [==============================] - 0s 39ms/step - loss: nan - accuracy: 0.6286 - val_loss: nan - val_accuracy: 0.6228\n",
            "Epoch 7/10\n",
            "2/2 [==============================] - 0s 42ms/step - loss: nan - accuracy: 0.6286 - val_loss: nan - val_accuracy: 0.6228\n",
            "Epoch 8/10\n",
            "2/2 [==============================] - 0s 45ms/step - loss: nan - accuracy: 0.6286 - val_loss: nan - val_accuracy: 0.6228\n",
            "Epoch 9/10\n",
            "2/2 [==============================] - 0s 44ms/step - loss: nan - accuracy: 0.6286 - val_loss: nan - val_accuracy: 0.6228\n",
            "Epoch 10/10\n",
            "2/2 [==============================] - 0s 40ms/step - loss: nan - accuracy: 0.6286 - val_loss: nan - val_accuracy: 0.6228\n"
          ]
        }
      ]
    },
    {
      "cell_type": "markdown",
      "source": [
        "Scaling the data"
      ],
      "metadata": {
        "id": "HDBrL_NkPFDw"
      }
    },
    {
      "cell_type": "code",
      "source": [
        "#importing the scaler\n",
        "from sklearn.preprocessing import StandardScaler\n"
      ],
      "metadata": {
        "id": "cGtk56w7PIlI"
      },
      "execution_count": 28,
      "outputs": []
    },
    {
      "cell_type": "code",
      "source": [
        "#passing the data to the imported scaler\n",
        "sc = StandardScaler()\n",
        "scaled_features = sc.fit_transform(features)"
      ],
      "metadata": {
        "colab": {
          "base_uri": "https://localhost:8080/"
        },
        "id": "y0H4DA0LO-n5",
        "outputId": "520732cc-8d9e-456d-c7e3-c830ebaf4619"
      },
      "execution_count": 29,
      "outputs": [
        {
          "output_type": "stream",
          "name": "stderr",
          "text": [
            "/usr/local/lib/python3.10/dist-packages/sklearn/utils/extmath.py:1047: RuntimeWarning: invalid value encountered in true_divide\n",
            "  updated_mean = (last_sum + new_sum) / updated_sample_count\n",
            "/usr/local/lib/python3.10/dist-packages/sklearn/utils/extmath.py:1052: RuntimeWarning: invalid value encountered in true_divide\n",
            "  T = new_sum / new_sample_count\n",
            "/usr/local/lib/python3.10/dist-packages/sklearn/utils/extmath.py:1072: RuntimeWarning: invalid value encountered in true_divide\n",
            "  new_unnormalized_variance -= correction**2 / new_sample_count\n"
          ]
        }
      ]
    },
    {
      "cell_type": "code",
      "source": [
        "# Split the data into training and testing sets\n",
        "train_data, test_data, train_labels, test_labels = train_test_split(scaled_features, labels, test_size=0.2, random_state=42)\n"
      ],
      "metadata": {
        "id": "9Zyv0YMGPp0A"
      },
      "execution_count": 30,
      "outputs": []
    },
    {
      "cell_type": "code",
      "source": [
        "# Creating the network\n",
        "model = Sequential()\n",
        "model.add(Dense(512, activation='relu', input_shape=(train_data.shape[1],)))\n",
        "model.add(Dense(512, activation='relu'))\n",
        "model.add(Dense(256, activation='relu'))\n",
        "model.add(Dense(128, activation='relu'))\n",
        "model.add(Dense(1, activation='sigmoid'))"
      ],
      "metadata": {
        "id": "duYMPZHJPs52"
      },
      "execution_count": 32,
      "outputs": []
    },
    {
      "cell_type": "code",
      "source": [
        "model.compile(optimizer='rmsprop', loss='binary_crossentropy', metrics=['accuracy'])\n"
      ],
      "metadata": {
        "id": "hNPkDPWhPyZZ"
      },
      "execution_count": 33,
      "outputs": []
    },
    {
      "cell_type": "code",
      "source": [
        "# Training the model\n",
        "history = model.fit(train_data, train_labels, batch_size=256, epochs=10, verbose=1,\n",
        "                    validation_data=(test_data, test_labels))"
      ],
      "metadata": {
        "colab": {
          "base_uri": "https://localhost:8080/"
        },
        "id": "v4tJd96KP1NL",
        "outputId": "89bb9435-d3a2-4f41-8251-62a339c39c3a"
      },
      "execution_count": 34,
      "outputs": [
        {
          "output_type": "stream",
          "name": "stdout",
          "text": [
            "Epoch 1/10\n",
            "2/2 [==============================] - 1s 157ms/step - loss: nan - accuracy: 0.6286 - val_loss: nan - val_accuracy: 0.6228\n",
            "Epoch 2/10\n",
            "2/2 [==============================] - 0s 34ms/step - loss: nan - accuracy: 0.6286 - val_loss: nan - val_accuracy: 0.6228\n",
            "Epoch 3/10\n",
            "2/2 [==============================] - 0s 35ms/step - loss: nan - accuracy: 0.6286 - val_loss: nan - val_accuracy: 0.6228\n",
            "Epoch 4/10\n",
            "2/2 [==============================] - 0s 37ms/step - loss: nan - accuracy: 0.6286 - val_loss: nan - val_accuracy: 0.6228\n",
            "Epoch 5/10\n",
            "2/2 [==============================] - 0s 37ms/step - loss: nan - accuracy: 0.6286 - val_loss: nan - val_accuracy: 0.6228\n",
            "Epoch 6/10\n",
            "2/2 [==============================] - 0s 32ms/step - loss: nan - accuracy: 0.6286 - val_loss: nan - val_accuracy: 0.6228\n",
            "Epoch 7/10\n",
            "2/2 [==============================] - 0s 33ms/step - loss: nan - accuracy: 0.6286 - val_loss: nan - val_accuracy: 0.6228\n",
            "Epoch 8/10\n",
            "2/2 [==============================] - 0s 49ms/step - loss: nan - accuracy: 0.6286 - val_loss: nan - val_accuracy: 0.6228\n",
            "Epoch 9/10\n",
            "2/2 [==============================] - 0s 37ms/step - loss: nan - accuracy: 0.6286 - val_loss: nan - val_accuracy: 0.6228\n",
            "Epoch 10/10\n",
            "2/2 [==============================] - 0s 36ms/step - loss: nan - accuracy: 0.6286 - val_loss: nan - val_accuracy: 0.6228\n"
          ]
        }
      ]
    },
    {
      "cell_type": "markdown",
      "source": [
        "### In class programming 2\n"
      ],
      "metadata": {
        "id": "i2XhmbOgQGWJ"
      }
    },
    {
      "cell_type": "code",
      "source": [
        "from keras import Sequential\n",
        "from keras.datasets import mnist\n",
        "import numpy as np\n",
        "from keras.layers import Dense\n",
        "from keras.utils import to_categorical\n",
        "#importing the hand written dataset.\n",
        "(train_images,train_labels),(test_images, test_labels) = mnist.load_data()\n",
        "\n",
        "print(train_images.shape[1:])\n",
        "#process the data\n",
        "#1. convert each image of shape 28*28 to 784 dimensional which will be fed to the network as a single feature\n",
        "dimData = np.prod(train_images.shape[1:])\n",
        "print(dimData)\n",
        "train_data = train_images.reshape(train_images.shape[0],dimData)\n",
        "test_data = test_images.reshape(test_images.shape[0],dimData)"
      ],
      "metadata": {
        "colab": {
          "base_uri": "https://localhost:8080/"
        },
        "id": "ydDjjTPYQLBl",
        "outputId": "79727955-aefc-4095-fa86-0825de3f37a2"
      },
      "execution_count": 48,
      "outputs": [
        {
          "output_type": "stream",
          "name": "stdout",
          "text": [
            "(28, 28)\n",
            "784\n"
          ]
        }
      ]
    },
    {
      "cell_type": "code",
      "source": [
        "train_data = train_data.astype('float')\n",
        "test_data = test_data.astype('float')\n",
        "#scale data\n",
        "train_data /=255.0\n",
        "test_data /=255.0\n",
        "#change the labels frominteger to one-hot encoding. to_categorical is doing the same thing as LabelEncoder()\n",
        "train_labels_one_hot = to_categorical(train_labels)\n",
        "test_labels_one_hot = to_categorical(test_labels)"
      ],
      "metadata": {
        "id": "1qFFtgEGRTmd"
      },
      "execution_count": 49,
      "outputs": []
    },
    {
      "cell_type": "code",
      "source": [
        "#build the network\n",
        "model = Sequential()\n",
        "model.add(Dense(512, activation='relu', input_shape=(dimData,)))\n",
        "model.add(Dense(512, activation='relu'))\n",
        "model.add(Dense(10, activation='softmax'))"
      ],
      "metadata": {
        "id": "iAcREWj6RV9F"
      },
      "execution_count": 50,
      "outputs": []
    },
    {
      "cell_type": "code",
      "source": [
        "model.compile(optimizer='rmsprop', loss='categorical_crossentropy', metrics=['accuracy'])\n",
        "history = model.fit(train_data, train_labels_one_hot, batch_size=256, epochs=10, verbose=1,\n",
        "                   validation_data=(test_data, test_labels_one_hot))"
      ],
      "metadata": {
        "colab": {
          "base_uri": "https://localhost:8080/"
        },
        "id": "9by_A2XXRX1A",
        "outputId": "79b3e603-ede7-4b31-dc8e-4cec82e3837e"
      },
      "execution_count": 51,
      "outputs": [
        {
          "output_type": "stream",
          "name": "stdout",
          "text": [
            "Epoch 1/10\n",
            "235/235 [==============================] - 5s 20ms/step - loss: 0.2887 - accuracy: 0.9112 - val_loss: 0.1485 - val_accuracy: 0.9547\n",
            "Epoch 2/10\n",
            "235/235 [==============================] - 4s 17ms/step - loss: 0.0984 - accuracy: 0.9696 - val_loss: 0.1010 - val_accuracy: 0.9666\n",
            "Epoch 3/10\n",
            "235/235 [==============================] - 4s 17ms/step - loss: 0.0620 - accuracy: 0.9805 - val_loss: 0.0745 - val_accuracy: 0.9766\n",
            "Epoch 4/10\n",
            "235/235 [==============================] - 5s 20ms/step - loss: 0.0418 - accuracy: 0.9870 - val_loss: 0.0821 - val_accuracy: 0.9748\n",
            "Epoch 5/10\n",
            "235/235 [==============================] - 4s 16ms/step - loss: 0.0306 - accuracy: 0.9905 - val_loss: 0.0779 - val_accuracy: 0.9762\n",
            "Epoch 6/10\n",
            "235/235 [==============================] - 4s 16ms/step - loss: 0.0220 - accuracy: 0.9933 - val_loss: 0.0587 - val_accuracy: 0.9840\n",
            "Epoch 7/10\n",
            "235/235 [==============================] - 5s 20ms/step - loss: 0.0159 - accuracy: 0.9950 - val_loss: 0.0850 - val_accuracy: 0.9771\n",
            "Epoch 8/10\n",
            "235/235 [==============================] - 4s 16ms/step - loss: 0.0131 - accuracy: 0.9959 - val_loss: 0.0727 - val_accuracy: 0.9813\n",
            "Epoch 9/10\n",
            "235/235 [==============================] - 4s 16ms/step - loss: 0.0084 - accuracy: 0.9977 - val_loss: 0.0676 - val_accuracy: 0.9829\n",
            "Epoch 10/10\n",
            "235/235 [==============================] - 6s 24ms/step - loss: 0.0073 - accuracy: 0.9975 - val_loss: 0.0869 - val_accuracy: 0.9799\n"
          ]
        }
      ]
    },
    {
      "cell_type": "markdown",
      "source": [
        "Plot values"
      ],
      "metadata": {
        "id": "4vITI179RcUp"
      }
    },
    {
      "cell_type": "code",
      "source": [
        "import matplotlib.pyplot as plt\n"
      ],
      "metadata": {
        "id": "27PbPDfHRehQ"
      },
      "execution_count": 52,
      "outputs": []
    },
    {
      "cell_type": "code",
      "source": [
        "#plotting the graph of Loss with the values.\n",
        "epochs = range(1, 11)\n",
        "bar_width = 0.4\n",
        "\n",
        "plt.bar(epochs, history.history['loss'], width=bar_width, label='Training Loss')\n",
        "plt.bar([epoch + bar_width for epoch in epochs], history.history['val_loss'], width=bar_width, label='Validation Loss')\n",
        "plt.xlabel('Epochs')\n",
        "plt.ylabel('Loss')\n",
        "plt.legend()\n",
        "plt.show()"
      ],
      "metadata": {
        "colab": {
          "base_uri": "https://localhost:8080/",
          "height": 451
        },
        "id": "_rDE5LahSMTX",
        "outputId": "b277530e-7467-4d1a-cb02-51fa739e6a48"
      },
      "execution_count": 53,
      "outputs": [
        {
          "output_type": "display_data",
          "data": {
            "text/plain": [
              "<Figure size 640x480 with 1 Axes>"
            ],
            "image/png": "[encoded data removed]"
          },
          "metadata": {}
        }
      ]
    },
    {
      "cell_type": "code",
      "source": [
        "#plotting the accuracy graph\n",
        "epochs = range(1, 11)\n",
        "bar_width = 0.4\n",
        "\n",
        "plt.bar(epochs, history.history['accuracy'], width=bar_width, label='Training Accuracy')\n",
        "plt.bar([epoch + bar_width for epoch in epochs], history.history['val_accuracy'], width=bar_width, label='Validation Accuracy')\n",
        "plt.xlabel('Epochs')\n",
        "plt.ylabel('Accuracy')\n",
        "plt.legend()\n",
        "plt.show()"
      ],
      "metadata": {
        "colab": {
          "base_uri": "https://localhost:8080/",
          "height": 449
        },
        "id": "qraoOAobSS15",
        "outputId": "0fd3bc02-9fa7-4216-938c-170e1b624efe"
      },
      "execution_count": 55,
      "outputs": [
        {
          "output_type": "display_data",
          "data": {
            "text/plain": [
              "<Figure size 640x480 with 1 Axes>"
            ],
            "image/png": "[encoded data removed]"
          },
          "metadata": {}
        }
      ]
    },
    {
      "cell_type": "markdown",
      "source": [
        " ### inferencing to check"
      ],
      "metadata": {
        "id": "YntEToUQTImd"
      }
    },
    {
      "cell_type": "code",
      "source": [
        "#plotting the image\n",
        "plt.imshow(test_images[0], cmap='gray')\n",
        "plt.title('Sample Image')\n",
        "plt.show()\n",
        "\n",
        "# Inference on a single image\n",
        "sample_image = test_data[0].reshape(1, -1)\n",
        "prediction = model.predict(sample_image)\n",
        "predicted_label = np.argmax(prediction[0])\n",
        "print(f'Predicted Label: {predicted_label}')"
      ],
      "metadata": {
        "colab": {
          "base_uri": "https://localhost:8080/",
          "height": 488
        },
        "id": "NB8R4cDsTKmg",
        "outputId": "49403fa7-a4bc-4319-de82-942ca727d649"
      },
      "execution_count": 56,
      "outputs": [
        {
          "output_type": "display_data",
          "data": {
            "text/plain": [
              "<Figure size 640x480 with 1 Axes>"
            ],
            "image/png": "[encoded data removed]"
          },
          "metadata": {}
        },
        {
          "output_type": "stream",
          "name": "stdout",
          "text": [
            "1/1 [==============================] - 0s 41ms/step\n",
            "Predicted Label: 7\n"
          ]
        }
      ]
    },
    {
      "cell_type": "markdown",
      "source": [
        "Changing Hidden Layers and Activation Function"
      ],
      "metadata": {
        "id": "V7v1fyRBT6QD"
      }
    },
    {
      "cell_type": "code",
      "source": [
        "#adding more layers with TANh and sigmod activation function\n",
        "\n",
        "model = Sequential()\n",
        "model.add(Dense(256, activation='tanh', input_shape=(dimData,)))\n",
        "model.add(Dense(128, activation='sigmoid'))\n",
        "model.add(Dense(64, activation='relu'))\n",
        "model.add(Dense(10, activation='softmax'))"
      ],
      "metadata": {
        "id": "7QyGYokHT7om"
      },
      "execution_count": 57,
      "outputs": []
    },
    {
      "cell_type": "code",
      "source": [
        "model.compile(optimizer='rmsprop', loss='categorical_crossentropy', metrics=['accuracy'])\n"
      ],
      "metadata": {
        "id": "C6m_mf7pUGpu"
      },
      "execution_count": 58,
      "outputs": []
    },
    {
      "cell_type": "code",
      "source": [
        "history = model.fit(train_data, train_labels_one_hot, batch_size=256, epochs=10, verbose=1,\n",
        "                    validation_data=(test_data, test_labels_one_hot))"
      ],
      "metadata": {
        "colab": {
          "base_uri": "https://localhost:8080/"
        },
        "id": "NooqYWaoUOKA",
        "outputId": "3c4bf18b-1090-4752-a217-c2974fd1c50a"
      },
      "execution_count": 59,
      "outputs": [
        {
          "output_type": "stream",
          "name": "stdout",
          "text": [
            "Epoch 1/10\n",
            "235/235 [==============================] - 2s 8ms/step - loss: 0.5182 - accuracy: 0.8607 - val_loss: 0.2436 - val_accuracy: 0.9301\n",
            "Epoch 2/10\n",
            "235/235 [==============================] - 2s 9ms/step - loss: 0.2103 - accuracy: 0.9372 - val_loss: 0.1821 - val_accuracy: 0.9450\n",
            "Epoch 3/10\n",
            "235/235 [==============================] - 2s 10ms/step - loss: 0.1506 - accuracy: 0.9553 - val_loss: 0.1494 - val_accuracy: 0.9539\n",
            "Epoch 4/10\n",
            "235/235 [==============================] - 2s 8ms/step - loss: 0.1161 - accuracy: 0.9644 - val_loss: 0.1196 - val_accuracy: 0.9648\n",
            "Epoch 5/10\n",
            "235/235 [==============================] - 2s 7ms/step - loss: 0.0930 - accuracy: 0.9718 - val_loss: 0.1095 - val_accuracy: 0.9656\n",
            "Epoch 6/10\n",
            "235/235 [==============================] - 2s 7ms/step - loss: 0.0754 - accuracy: 0.9767 - val_loss: 0.0953 - val_accuracy: 0.9694\n",
            "Epoch 7/10\n",
            "235/235 [==============================] - 2s 7ms/step - loss: 0.0622 - accuracy: 0.9808 - val_loss: 0.1016 - val_accuracy: 0.9696\n",
            "Epoch 8/10\n",
            "235/235 [==============================] - 2s 7ms/step - loss: 0.0508 - accuracy: 0.9839 - val_loss: 0.0750 - val_accuracy: 0.9766\n",
            "Epoch 9/10\n",
            "235/235 [==============================] - 2s 9ms/step - loss: 0.0435 - accuracy: 0.9863 - val_loss: 0.0723 - val_accuracy: 0.9767\n",
            "Epoch 10/10\n",
            "235/235 [==============================] - 2s 9ms/step - loss: 0.0362 - accuracy: 0.9887 - val_loss: 0.0865 - val_accuracy: 0.9735\n"
          ]
        }
      ]
    },
    {
      "cell_type": "markdown",
      "source": [
        "skipping the scaling"
      ],
      "metadata": {
        "id": "lQS1uUlHVD97"
      }
    },
    {
      "cell_type": "code",
      "source": [
        "#loading the dataset again as the pervious values are scaled\n",
        "(train_images,train_labels),(test_images, test_labels) = mnist.load_data()\n"
      ],
      "metadata": {
        "id": "p9726TU1VGbT"
      },
      "execution_count": null,
      "outputs": []
    },
    {
      "cell_type": "code",
      "source": [
        "#1. convert each image of shape 28*28 to 784 dimensional which will be fed to the network as a single feature\n",
        "dimData = np.prod(train_images.shape[1:])\n",
        "print(dimData)\n",
        "train_data = train_images.reshape(train_images.shape[0],dimData)\n",
        "test_data = test_images.reshape(test_images.shape[0],dimData)"
      ],
      "metadata": {
        "colab": {
          "base_uri": "https://localhost:8080/"
        },
        "id": "IPVhTPqFVOCx",
        "outputId": "c62ec2d6-7d50-4e58-a4cf-2058a254d663"
      },
      "execution_count": 60,
      "outputs": [
        {
          "output_type": "stream",
          "name": "stdout",
          "text": [
            "784\n"
          ]
        }
      ]
    },
    {
      "cell_type": "code",
      "source": [
        "train_data = train_data.astype('float')\n",
        "test_data = test_data.astype('float')"
      ],
      "metadata": {
        "id": "PD_F6x1PVS90"
      },
      "execution_count": 61,
      "outputs": []
    },
    {
      "cell_type": "code",
      "source": [
        "train_labels_one_hot = to_categorical(train_labels)\n",
        "test_labels_one_hot = to_categorical(test_labels)"
      ],
      "metadata": {
        "id": "jllreiHsVWyo"
      },
      "execution_count": 62,
      "outputs": []
    },
    {
      "cell_type": "code",
      "source": [
        "model = Sequential()\n",
        "model.add(Dense(256, activation='tanh', input_shape=(dimData,)))\n",
        "model.add(Dense(128, activation='sigmoid'))\n",
        "model.add(Dense(64, activation='relu'))\n",
        "model.add(Dense(10, activation='softmax'))"
      ],
      "metadata": {
        "id": "LrpPgKDBVaxm"
      },
      "execution_count": 63,
      "outputs": []
    },
    {
      "cell_type": "code",
      "source": [
        "model.compile(optimizer='rmsprop', loss='categorical_crossentropy', metrics=['accuracy'])\n"
      ],
      "metadata": {
        "id": "byCPoDyZVdYo"
      },
      "execution_count": 64,
      "outputs": []
    },
    {
      "cell_type": "code",
      "source": [
        "history = model.fit(train_data, train_labels_one_hot, batch_size=256, epochs=10, verbose=1,\n",
        "                    validation_data=(test_data, test_labels_one_hot))"
      ],
      "metadata": {
        "colab": {
          "base_uri": "https://localhost:8080/"
        },
        "id": "s98cnOd1VdVH",
        "outputId": "22076eb8-d85c-46d3-97e5-70b1efcf4588"
      },
      "execution_count": 65,
      "outputs": [
        {
          "output_type": "stream",
          "name": "stdout",
          "text": [
            "Epoch 1/10\n",
            "235/235 [==============================] - 2s 8ms/step - loss: 0.5260 - accuracy: 0.8573 - val_loss: 0.3228 - val_accuracy: 0.9027\n",
            "Epoch 2/10\n",
            "235/235 [==============================] - 2s 7ms/step - loss: 0.2619 - accuracy: 0.9208 - val_loss: 0.2354 - val_accuracy: 0.9301\n",
            "Epoch 3/10\n",
            "235/235 [==============================] - 2s 9ms/step - loss: 0.2173 - accuracy: 0.9330 - val_loss: 0.2141 - val_accuracy: 0.9343\n",
            "Epoch 4/10\n",
            "235/235 [==============================] - 2s 10ms/step - loss: 0.1961 - accuracy: 0.9389 - val_loss: 0.1904 - val_accuracy: 0.9417\n",
            "Epoch 5/10\n",
            "235/235 [==============================] - 2s 7ms/step - loss: 0.1723 - accuracy: 0.9477 - val_loss: 0.1742 - val_accuracy: 0.9428\n",
            "Epoch 6/10\n",
            "235/235 [==============================] - 2s 7ms/step - loss: 0.1620 - accuracy: 0.9496 - val_loss: 0.1671 - val_accuracy: 0.9466\n",
            "Epoch 7/10\n",
            "235/235 [==============================] - 2s 7ms/step - loss: 0.1502 - accuracy: 0.9530 - val_loss: 0.1533 - val_accuracy: 0.9526\n",
            "Epoch 8/10\n",
            "235/235 [==============================] - 2s 7ms/step - loss: 0.1403 - accuracy: 0.9567 - val_loss: 0.1522 - val_accuracy: 0.9548\n",
            "Epoch 9/10\n",
            "235/235 [==============================] - 2s 7ms/step - loss: 0.1330 - accuracy: 0.9589 - val_loss: 0.1419 - val_accuracy: 0.9567\n",
            "Epoch 10/10\n",
            "235/235 [==============================] - 2s 8ms/step - loss: 0.1247 - accuracy: 0.9610 - val_loss: 0.1419 - val_accuracy: 0.9549\n"
          ]
        }
      ]
    }
  ]
}